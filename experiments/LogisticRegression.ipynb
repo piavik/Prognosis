{
  "cells": [
    {
      "cell_type": "markdown",
      "metadata": {},
      "source": [
        "<a target=\"_blank\" href=\"https://colab.research.google.com/github/piavik/Prognosis/blob/dev/experiments/LinearRegression.ipynb\">\n",
        "  <img src=\"https://colab.research.google.com/assets/colab-badge.svg\" alt=\"Open In Colab\"/>\n",
        "</a>"
      ]
    },
    {
      "cell_type": "code",
      "execution_count": 4,
      "metadata": {
        "id": "Z3PSRrwOG0Nl"
      },
      "outputs": [],
      "source": [
        "import pandas as pd\n",
        "import numpy as np\n",
        "import matplotlib.pyplot as plt\n",
        "import seaborn as sns"
      ]
    },
    {
      "cell_type": "markdown",
      "metadata": {
        "id": "0w2SfyfkOuvl"
      },
      "source": [
        "# Load dataset"
      ]
    },
    {
      "cell_type": "code",
      "execution_count": 2,
      "metadata": {
        "id": "Y5F5aDWIKRbE"
      },
      "outputs": [],
      "source": [
        "# # створення датасету з файлу\n",
        "# df = pd.read_csv('internet_service_churn.csv')"
      ]
    },
    {
      "cell_type": "code",
      "execution_count": 8,
      "metadata": {},
      "outputs": [],
      "source": [
        "df = pd.read_csv('../datasets/processed_dataset.csv')"
      ]
    },
    {
      "cell_type": "markdown",
      "metadata": {
        "id": "oOaUeGYpGyNk"
      },
      "source": [
        "# Data cleaning"
      ]
    },
    {
      "cell_type": "code",
      "execution_count": 9,
      "metadata": {
        "colab": {
          "base_uri": "https://localhost:8080/",
          "height": 300
        },
        "id": "d8OxHqc2Kagy",
        "outputId": "953a3434-6a6e-4fe0-8af5-c582a9cc5a70"
      },
      "outputs": [
        {
          "data": {
            "text/html": [
              "<div>\n",
              "<style scoped>\n",
              "    .dataframe tbody tr th:only-of-type {\n",
              "        vertical-align: middle;\n",
              "    }\n",
              "\n",
              "    .dataframe tbody tr th {\n",
              "        vertical-align: top;\n",
              "    }\n",
              "\n",
              "    .dataframe thead th {\n",
              "        text-align: right;\n",
              "    }\n",
              "</style>\n",
              "<table border=\"1\" class=\"dataframe\">\n",
              "  <thead>\n",
              "    <tr style=\"text-align: right;\">\n",
              "      <th></th>\n",
              "      <th>is_tv_subscriber</th>\n",
              "      <th>is_movie_package_subscriber</th>\n",
              "      <th>subscription_age</th>\n",
              "      <th>bill_avg</th>\n",
              "      <th>reamining_contract</th>\n",
              "      <th>download_avg</th>\n",
              "      <th>upload_avg</th>\n",
              "      <th>churn</th>\n",
              "    </tr>\n",
              "  </thead>\n",
              "  <tbody>\n",
              "    <tr>\n",
              "      <th>count</th>\n",
              "      <td>71882.000000</td>\n",
              "      <td>71882.000000</td>\n",
              "      <td>71882.000000</td>\n",
              "      <td>71882.000000</td>\n",
              "      <td>71882.000000</td>\n",
              "      <td>71882.000000</td>\n",
              "      <td>71882.000000</td>\n",
              "      <td>71882.000000</td>\n",
              "    </tr>\n",
              "    <tr>\n",
              "      <th>mean</th>\n",
              "      <td>0.815308</td>\n",
              "      <td>0.334103</td>\n",
              "      <td>2.455431</td>\n",
              "      <td>18.960964</td>\n",
              "      <td>0.497667</td>\n",
              "      <td>43.492609</td>\n",
              "      <td>4.174503</td>\n",
              "      <td>0.557163</td>\n",
              "    </tr>\n",
              "    <tr>\n",
              "      <th>std</th>\n",
              "      <td>0.388050</td>\n",
              "      <td>0.471679</td>\n",
              "      <td>2.026719</td>\n",
              "      <td>12.383929</td>\n",
              "      <td>0.665780</td>\n",
              "      <td>58.734734</td>\n",
              "      <td>9.693839</td>\n",
              "      <td>0.496725</td>\n",
              "    </tr>\n",
              "    <tr>\n",
              "      <th>min</th>\n",
              "      <td>0.000000</td>\n",
              "      <td>0.000000</td>\n",
              "      <td>-0.020000</td>\n",
              "      <td>0.000000</td>\n",
              "      <td>0.000000</td>\n",
              "      <td>0.000000</td>\n",
              "      <td>0.000000</td>\n",
              "      <td>0.000000</td>\n",
              "    </tr>\n",
              "    <tr>\n",
              "      <th>25%</th>\n",
              "      <td>1.000000</td>\n",
              "      <td>0.000000</td>\n",
              "      <td>0.940000</td>\n",
              "      <td>13.000000</td>\n",
              "      <td>0.000000</td>\n",
              "      <td>6.700000</td>\n",
              "      <td>0.500000</td>\n",
              "      <td>0.000000</td>\n",
              "    </tr>\n",
              "    <tr>\n",
              "      <th>50%</th>\n",
              "      <td>1.000000</td>\n",
              "      <td>0.000000</td>\n",
              "      <td>1.980000</td>\n",
              "      <td>19.000000</td>\n",
              "      <td>0.000000</td>\n",
              "      <td>27.800000</td>\n",
              "      <td>2.100000</td>\n",
              "      <td>1.000000</td>\n",
              "    </tr>\n",
              "    <tr>\n",
              "      <th>75%</th>\n",
              "      <td>1.000000</td>\n",
              "      <td>1.000000</td>\n",
              "      <td>3.300000</td>\n",
              "      <td>22.000000</td>\n",
              "      <td>1.030000</td>\n",
              "      <td>60.400000</td>\n",
              "      <td>4.800000</td>\n",
              "      <td>1.000000</td>\n",
              "    </tr>\n",
              "    <tr>\n",
              "      <th>max</th>\n",
              "      <td>1.000000</td>\n",
              "      <td>1.000000</td>\n",
              "      <td>12.800000</td>\n",
              "      <td>285.000000</td>\n",
              "      <td>2.920000</td>\n",
              "      <td>3179.800000</td>\n",
              "      <td>453.300000</td>\n",
              "      <td>1.000000</td>\n",
              "    </tr>\n",
              "  </tbody>\n",
              "</table>\n",
              "</div>"
            ],
            "text/plain": [
              "       is_tv_subscriber  is_movie_package_subscriber  subscription_age  \\\n",
              "count      71882.000000                 71882.000000      71882.000000   \n",
              "mean           0.815308                     0.334103          2.455431   \n",
              "std            0.388050                     0.471679          2.026719   \n",
              "min            0.000000                     0.000000         -0.020000   \n",
              "25%            1.000000                     0.000000          0.940000   \n",
              "50%            1.000000                     0.000000          1.980000   \n",
              "75%            1.000000                     1.000000          3.300000   \n",
              "max            1.000000                     1.000000         12.800000   \n",
              "\n",
              "           bill_avg  reamining_contract  download_avg    upload_avg  \\\n",
              "count  71882.000000        71882.000000  71882.000000  71882.000000   \n",
              "mean      18.960964            0.497667     43.492609      4.174503   \n",
              "std       12.383929            0.665780     58.734734      9.693839   \n",
              "min        0.000000            0.000000      0.000000      0.000000   \n",
              "25%       13.000000            0.000000      6.700000      0.500000   \n",
              "50%       19.000000            0.000000     27.800000      2.100000   \n",
              "75%       22.000000            1.030000     60.400000      4.800000   \n",
              "max      285.000000            2.920000   3179.800000    453.300000   \n",
              "\n",
              "              churn  \n",
              "count  71882.000000  \n",
              "mean       0.557163  \n",
              "std        0.496725  \n",
              "min        0.000000  \n",
              "25%        0.000000  \n",
              "50%        1.000000  \n",
              "75%        1.000000  \n",
              "max        1.000000  "
            ]
          },
          "execution_count": 9,
          "metadata": {},
          "output_type": "execute_result"
        }
      ],
      "source": [
        "df.describe()"
      ]
    },
    {
      "cell_type": "code",
      "execution_count": 10,
      "metadata": {
        "colab": {
          "base_uri": "https://localhost:8080/"
        },
        "id": "-ws9a2dvKiuv",
        "outputId": "fd48cbd3-65de-4c62-aac8-d2cbd497042b"
      },
      "outputs": [
        {
          "name": "stdout",
          "output_type": "stream",
          "text": [
            "<class 'pandas.core.frame.DataFrame'>\n",
            "RangeIndex: 71882 entries, 0 to 71881\n",
            "Data columns (total 8 columns):\n",
            " #   Column                       Non-Null Count  Dtype  \n",
            "---  ------                       --------------  -----  \n",
            " 0   is_tv_subscriber             71882 non-null  int64  \n",
            " 1   is_movie_package_subscriber  71882 non-null  int64  \n",
            " 2   subscription_age             71882 non-null  float64\n",
            " 3   bill_avg                     71882 non-null  int64  \n",
            " 4   reamining_contract           71882 non-null  float64\n",
            " 5   download_avg                 71882 non-null  float64\n",
            " 6   upload_avg                   71882 non-null  float64\n",
            " 7   churn                        71882 non-null  int64  \n",
            "dtypes: float64(4), int64(4)\n",
            "memory usage: 4.4 MB\n"
          ]
        }
      ],
      "source": [
        "df.info()"
      ]
    },
    {
      "cell_type": "code",
      "execution_count": 11,
      "metadata": {
        "colab": {
          "base_uri": "https://localhost:8080/",
          "height": 429
        },
        "id": "sx43pZZVKnlI",
        "outputId": "854b47db-5360-4c63-e2ed-99f1915a1663"
      },
      "outputs": [
        {
          "data": {
            "text/plain": [
              "is_tv_subscriber               0\n",
              "is_movie_package_subscriber    0\n",
              "subscription_age               0\n",
              "bill_avg                       0\n",
              "reamining_contract             0\n",
              "download_avg                   0\n",
              "upload_avg                     0\n",
              "churn                          0\n",
              "dtype: int64"
            ]
          },
          "execution_count": 11,
          "metadata": {},
          "output_type": "execute_result"
        }
      ],
      "source": [
        "df.isna().sum()"
      ]
    },
    {
      "cell_type": "code",
      "execution_count": 6,
      "metadata": {
        "id": "fgjs2XJcLby0"
      },
      "outputs": [],
      "source": [
        "# # Create 'is_contract' column: 1 if 'reamining_contract' is not null, else 0\n",
        "# df['is_contract'] = df['reamining_contract'].notna().astype(int)\n",
        "\n",
        "# # Replace nulls in 'reamining_contract' with 0\n",
        "# df['reamining_contract'] = df['reamining_contract'].fillna(0)\n",
        "\n",
        "# # Define the desired column order\n",
        "# column_names = [\n",
        "#     'id', 'is_tv_subscriber', 'is_movie_package_subscriber', 'subscription_age',\n",
        "#     'bill_avg', 'reamining_contract', 'is_contract', 'service_failure_count',\n",
        "#     'download_avg', 'upload_avg', 'download_over_limit', 'churn'\n",
        "# ]\n",
        "\n",
        "# # Reorder the DataFrame columns\n",
        "# df = df[column_names]"
      ]
    },
    {
      "cell_type": "code",
      "execution_count": 14,
      "metadata": {
        "colab": {
          "base_uri": "https://localhost:8080/",
          "height": 363
        },
        "id": "zLWQz6BjLnFL",
        "outputId": "b2312b51-e58f-4e54-98f3-bb05470743f1"
      },
      "outputs": [
        {
          "data": {
            "text/html": [
              "<div>\n",
              "<style scoped>\n",
              "    .dataframe tbody tr th:only-of-type {\n",
              "        vertical-align: middle;\n",
              "    }\n",
              "\n",
              "    .dataframe tbody tr th {\n",
              "        vertical-align: top;\n",
              "    }\n",
              "\n",
              "    .dataframe thead th {\n",
              "        text-align: right;\n",
              "    }\n",
              "</style>\n",
              "<table border=\"1\" class=\"dataframe\">\n",
              "  <thead>\n",
              "    <tr style=\"text-align: right;\">\n",
              "      <th></th>\n",
              "      <th>is_tv_subscriber</th>\n",
              "      <th>is_movie_package_subscriber</th>\n",
              "      <th>subscription_age</th>\n",
              "      <th>bill_avg</th>\n",
              "      <th>reamining_contract</th>\n",
              "      <th>download_avg</th>\n",
              "      <th>upload_avg</th>\n",
              "      <th>churn</th>\n",
              "    </tr>\n",
              "  </thead>\n",
              "  <tbody>\n",
              "    <tr>\n",
              "      <th>0</th>\n",
              "      <td>1</td>\n",
              "      <td>0</td>\n",
              "      <td>11.95</td>\n",
              "      <td>25</td>\n",
              "      <td>0.14</td>\n",
              "      <td>8.4</td>\n",
              "      <td>2.3</td>\n",
              "      <td>0</td>\n",
              "    </tr>\n",
              "    <tr>\n",
              "      <th>1</th>\n",
              "      <td>0</td>\n",
              "      <td>0</td>\n",
              "      <td>8.22</td>\n",
              "      <td>0</td>\n",
              "      <td>0.00</td>\n",
              "      <td>0.0</td>\n",
              "      <td>0.0</td>\n",
              "      <td>1</td>\n",
              "    </tr>\n",
              "    <tr>\n",
              "      <th>2</th>\n",
              "      <td>1</td>\n",
              "      <td>0</td>\n",
              "      <td>8.91</td>\n",
              "      <td>16</td>\n",
              "      <td>0.00</td>\n",
              "      <td>13.7</td>\n",
              "      <td>0.9</td>\n",
              "      <td>1</td>\n",
              "    </tr>\n",
              "    <tr>\n",
              "      <th>3</th>\n",
              "      <td>0</td>\n",
              "      <td>0</td>\n",
              "      <td>6.87</td>\n",
              "      <td>21</td>\n",
              "      <td>0.00</td>\n",
              "      <td>0.0</td>\n",
              "      <td>0.0</td>\n",
              "      <td>1</td>\n",
              "    </tr>\n",
              "    <tr>\n",
              "      <th>4</th>\n",
              "      <td>0</td>\n",
              "      <td>0</td>\n",
              "      <td>6.39</td>\n",
              "      <td>0</td>\n",
              "      <td>0.00</td>\n",
              "      <td>0.0</td>\n",
              "      <td>0.0</td>\n",
              "      <td>1</td>\n",
              "    </tr>\n",
              "    <tr>\n",
              "      <th>5</th>\n",
              "      <td>1</td>\n",
              "      <td>1</td>\n",
              "      <td>11.94</td>\n",
              "      <td>32</td>\n",
              "      <td>1.38</td>\n",
              "      <td>69.4</td>\n",
              "      <td>4.0</td>\n",
              "      <td>0</td>\n",
              "    </tr>\n",
              "    <tr>\n",
              "      <th>6</th>\n",
              "      <td>0</td>\n",
              "      <td>0</td>\n",
              "      <td>8.96</td>\n",
              "      <td>18</td>\n",
              "      <td>0.00</td>\n",
              "      <td>21.3</td>\n",
              "      <td>2.0</td>\n",
              "      <td>1</td>\n",
              "    </tr>\n",
              "    <tr>\n",
              "      <th>7</th>\n",
              "      <td>0</td>\n",
              "      <td>0</td>\n",
              "      <td>5.48</td>\n",
              "      <td>14</td>\n",
              "      <td>0.00</td>\n",
              "      <td>0.0</td>\n",
              "      <td>0.0</td>\n",
              "      <td>1</td>\n",
              "    </tr>\n",
              "    <tr>\n",
              "      <th>8</th>\n",
              "      <td>0</td>\n",
              "      <td>0</td>\n",
              "      <td>8.54</td>\n",
              "      <td>0</td>\n",
              "      <td>0.00</td>\n",
              "      <td>0.0</td>\n",
              "      <td>0.0</td>\n",
              "      <td>1</td>\n",
              "    </tr>\n",
              "    <tr>\n",
              "      <th>9</th>\n",
              "      <td>0</td>\n",
              "      <td>0</td>\n",
              "      <td>8.33</td>\n",
              "      <td>0</td>\n",
              "      <td>0.00</td>\n",
              "      <td>0.0</td>\n",
              "      <td>0.0</td>\n",
              "      <td>1</td>\n",
              "    </tr>\n",
              "  </tbody>\n",
              "</table>\n",
              "</div>"
            ],
            "text/plain": [
              "   is_tv_subscriber  is_movie_package_subscriber  subscription_age  bill_avg  \\\n",
              "0                 1                            0             11.95        25   \n",
              "1                 0                            0              8.22         0   \n",
              "2                 1                            0              8.91        16   \n",
              "3                 0                            0              6.87        21   \n",
              "4                 0                            0              6.39         0   \n",
              "5                 1                            1             11.94        32   \n",
              "6                 0                            0              8.96        18   \n",
              "7                 0                            0              5.48        14   \n",
              "8                 0                            0              8.54         0   \n",
              "9                 0                            0              8.33         0   \n",
              "\n",
              "   reamining_contract  download_avg  upload_avg  churn  \n",
              "0                0.14           8.4         2.3      0  \n",
              "1                0.00           0.0         0.0      1  \n",
              "2                0.00          13.7         0.9      1  \n",
              "3                0.00           0.0         0.0      1  \n",
              "4                0.00           0.0         0.0      1  \n",
              "5                1.38          69.4         4.0      0  \n",
              "6                0.00          21.3         2.0      1  \n",
              "7                0.00           0.0         0.0      1  \n",
              "8                0.00           0.0         0.0      1  \n",
              "9                0.00           0.0         0.0      1  "
            ]
          },
          "execution_count": 14,
          "metadata": {},
          "output_type": "execute_result"
        }
      ],
      "source": [
        "df.head(10)"
      ]
    },
    {
      "cell_type": "code",
      "execution_count": 15,
      "metadata": {
        "colab": {
          "base_uri": "https://localhost:8080/",
          "height": 460
        },
        "id": "h59nizdlLrT0",
        "outputId": "c7e1f05c-5a4d-4e0f-f2cd-f9a57bd68028"
      },
      "outputs": [
        {
          "data": {
            "text/plain": [
              "is_tv_subscriber               0\n",
              "is_movie_package_subscriber    0\n",
              "subscription_age               0\n",
              "bill_avg                       0\n",
              "reamining_contract             0\n",
              "download_avg                   0\n",
              "upload_avg                     0\n",
              "churn                          0\n",
              "dtype: int64"
            ]
          },
          "execution_count": 15,
          "metadata": {},
          "output_type": "execute_result"
        }
      ],
      "source": [
        "df.isna().sum()"
      ]
    },
    {
      "cell_type": "code",
      "execution_count": 9,
      "metadata": {
        "id": "Y_49DgkDMGsg"
      },
      "outputs": [],
      "source": [
        "# # Replace empty strings with NaN in 'download_avg' and 'upload_avg' columns\n",
        "# df[['download_avg', 'upload_avg']] = df[['download_avg', 'upload_avg']].replace('', np.nan)\n",
        "\n",
        "# # Drop rows where either 'download_avg' or 'upload_avg' is NaN\n",
        "# df.dropna(subset=['download_avg', 'upload_avg'], inplace=True)"
      ]
    },
    {
      "cell_type": "code",
      "execution_count": 16,
      "metadata": {
        "colab": {
          "base_uri": "https://localhost:8080/",
          "height": 460
        },
        "id": "Z04RzwDZMfdm",
        "outputId": "d0574521-3474-4612-8fc3-28ec8d31ea8e"
      },
      "outputs": [
        {
          "data": {
            "text/plain": [
              "is_tv_subscriber               0\n",
              "is_movie_package_subscriber    0\n",
              "subscription_age               0\n",
              "bill_avg                       0\n",
              "reamining_contract             0\n",
              "download_avg                   0\n",
              "upload_avg                     0\n",
              "churn                          0\n",
              "dtype: int64"
            ]
          },
          "execution_count": 16,
          "metadata": {},
          "output_type": "execute_result"
        }
      ],
      "source": [
        "# df.isna().sum()"
      ]
    },
    {
      "cell_type": "markdown",
      "metadata": {
        "id": "ohXHuaT0M4tE"
      },
      "source": [
        "# EDA"
      ]
    },
    {
      "cell_type": "markdown",
      "metadata": {
        "id": "VZoDyIQbUP-R"
      },
      "source": [
        "## Churn"
      ]
    },
    {
      "cell_type": "code",
      "execution_count": 17,
      "metadata": {
        "colab": {
          "base_uri": "https://localhost:8080/",
          "height": 583
        },
        "id": "nSCnsOA-M56b",
        "outputId": "38eb77b4-ffec-4c59-9284-8d4a23e6591d"
      },
      "outputs": [
        {
          "data": {
            "image/png": "[encoded data removed]",
            "text/plain": [
              "<Figure size 1000x600 with 1 Axes>"
            ]
          },
          "metadata": {},
          "output_type": "display_data"
        }
      ],
      "source": [
        "sns.set_style('whitegrid')\n",
        "sns.set_context('talk')\n",
        "\n",
        "plt.figure(figsize=(10, 6))\n",
        "\n",
        "# Create the count plot with 'churn' as both x and hue variables\n",
        "ax = sns.countplot(data=df, x='churn', hue='churn', palette='Set2', dodge=False)\n",
        "\n",
        "plt.title(\"Customer Churn Distribution\", fontsize=18)\n",
        "plt.xlabel(\"Churn Status\", fontsize=14)\n",
        "plt.ylabel(\"Number of Customers\", fontsize=14)\n",
        "\n",
        "ax.legend_.remove()\n",
        "\n",
        "ax.set_xticks([0, 1])  # Positions corresponding to 'churn' categories\n",
        "ax.set_xticklabels(['Did Not Churn', 'Churned'], fontsize=12)\n",
        "\n",
        "# Annotate each bar with the count and percentage\n",
        "total = len(df)\n",
        "for p in ax.patches:\n",
        "    count = int(p.get_height())\n",
        "    percentage = f'{100 * count / total:.1f}%'\n",
        "    x = p.get_x() + p.get_width() / 2\n",
        "    y = count\n",
        "    ax.annotate(f'{count}\\n({percentage})', (x, y), ha='center', va='bottom', fontsize=12)\n",
        "\n",
        "plt.tight_layout()\n",
        "\n",
        "plt.show()"
      ]
    },
    {
      "cell_type": "markdown",
      "metadata": {
        "id": "kICrAOKfOzcb"
      },
      "source": [
        "There is imbalance in the data with 40050 who has churned & 31843 who has not churned."
      ]
    },
    {
      "cell_type": "markdown",
      "metadata": {
        "id": "QyBdehRiUUTm"
      },
      "source": [
        "## Comparison of Subscribers"
      ]
    },
    {
      "cell_type": "code",
      "execution_count": 18,
      "metadata": {
        "colab": {
          "base_uri": "https://localhost:8080/",
          "height": 147
        },
        "id": "_1unnwMuO1XO",
        "outputId": "e5c00c44-915e-422a-ff70-f6c59b32d17f"
      },
      "outputs": [
        {
          "data": {
            "text/plain": [
              "is_tv_subscriber               58606\n",
              "is_movie_package_subscriber    24016\n",
              "dtype: int64"
            ]
          },
          "execution_count": 18,
          "metadata": {},
          "output_type": "execute_result"
        }
      ],
      "source": [
        "df[[\"is_tv_subscriber\",\"is_movie_package_subscriber\"]].sum()"
      ]
    },
    {
      "cell_type": "code",
      "execution_count": 19,
      "metadata": {
        "colab": {
          "base_uri": "https://localhost:8080/",
          "height": 143
        },
        "id": "IGiRT0BlPaQJ",
        "outputId": "1c465dcf-0dfe-4a6d-97a6-0117c9a2e70c"
      },
      "outputs": [
        {
          "data": {
            "text/html": [
              "<div>\n",
              "<style scoped>\n",
              "    .dataframe tbody tr th:only-of-type {\n",
              "        vertical-align: middle;\n",
              "    }\n",
              "\n",
              "    .dataframe tbody tr th {\n",
              "        vertical-align: top;\n",
              "    }\n",
              "\n",
              "    .dataframe thead th {\n",
              "        text-align: right;\n",
              "    }\n",
              "</style>\n",
              "<table border=\"1\" class=\"dataframe\">\n",
              "  <thead>\n",
              "    <tr style=\"text-align: right;\">\n",
              "      <th>is_movie_package_subscriber</th>\n",
              "      <th>0</th>\n",
              "      <th>1</th>\n",
              "    </tr>\n",
              "    <tr>\n",
              "      <th>is_tv_subscriber</th>\n",
              "      <th></th>\n",
              "      <th></th>\n",
              "    </tr>\n",
              "  </thead>\n",
              "  <tbody>\n",
              "    <tr>\n",
              "      <th>0</th>\n",
              "      <td>13274</td>\n",
              "      <td>2</td>\n",
              "    </tr>\n",
              "    <tr>\n",
              "      <th>1</th>\n",
              "      <td>34592</td>\n",
              "      <td>24014</td>\n",
              "    </tr>\n",
              "  </tbody>\n",
              "</table>\n",
              "</div>"
            ],
            "text/plain": [
              "is_movie_package_subscriber      0      1\n",
              "is_tv_subscriber                         \n",
              "0                            13274      2\n",
              "1                            34592  24014"
            ]
          },
          "execution_count": 19,
          "metadata": {},
          "output_type": "execute_result"
        }
      ],
      "source": [
        "subscription_counts = pd.crosstab(df['is_tv_subscriber'], df['is_movie_package_subscriber'])\n",
        "subscription_counts"
      ]
    },
    {
      "cell_type": "markdown",
      "metadata": {
        "id": "P5qQKVUZTrSs"
      },
      "source": [
        "\n",
        "Comparison of Subscribers:\n",
        "  * There are more customers with TV subscriptions than those with movie package subscriptions.\n",
        "\n",
        "Movie-Only Subscribers:\n",
        "  * Only two customers have opted for the movie package without a TV subscription. Generally, customers who subscribe to the movie package also have a TV subscription.\n",
        "\n",
        "Subscription Statistics:\n",
        "  * A total of 13,282 customers did not opt for either TV or movie subscriptions.\n",
        "  * 24,015 customers opted for both TV and movie subscriptions."
      ]
    },
    {
      "cell_type": "markdown",
      "metadata": {
        "id": "-aVXuiIUUpu6"
      },
      "source": [
        "## Is TV subscribers cousing churn"
      ]
    },
    {
      "cell_type": "code",
      "execution_count": 20,
      "metadata": {
        "colab": {
          "base_uri": "https://localhost:8080/",
          "height": 521
        },
        "id": "Ig7pSOzgUoxC",
        "outputId": "e32b36c2-472d-40be-e208-d8dd7e8fa9bf"
      },
      "outputs": [
        {
          "data": {
            "text/plain": [
              "[Text(0.5, 0, 'Tv subscriber or not')]"
            ]
          },
          "execution_count": 20,
          "metadata": {},
          "output_type": "execute_result"
        },
        {
          "data": {
            "image/png": "[encoded data removed]",
            "text/plain": [
              "<Figure size 640x480 with 1 Axes>"
            ]
          },
          "metadata": {},
          "output_type": "display_data"
        }
      ],
      "source": [
        "plt.title(\"Count of TV subscribers who churned & didn't churn\")\n",
        "ax = sns.countplot(x = 'is_tv_subscriber', data = df)\n",
        "ax.set(xlabel='Tv subscriber or not')"
      ]
    },
    {
      "cell_type": "markdown",
      "metadata": {
        "id": "-KUYvq3jVOdE"
      },
      "source": [
        "## Is movie subscribers causing churn?"
      ]
    },
    {
      "cell_type": "code",
      "execution_count": 21,
      "metadata": {
        "colab": {
          "base_uri": "https://localhost:8080/",
          "height": 521
        },
        "id": "qvu_t4qoUE4Z",
        "outputId": "809ea226-0a31-4464-ea3f-a35a869ef4ec"
      },
      "outputs": [
        {
          "data": {
            "text/plain": [
              "[Text(0.5, 0, 'Movie subscriber or not')]"
            ]
          },
          "execution_count": 21,
          "metadata": {},
          "output_type": "execute_result"
        },
        {
          "data": {
            "image/png": "[encoded data removed]",
            "text/plain": [
              "<Figure size 640x480 with 1 Axes>"
            ]
          },
          "metadata": {},
          "output_type": "display_data"
        }
      ],
      "source": [
        "plt.title(\"Count of movie subscribers who churned & didn't churn\")\n",
        "ax = sns.countplot(x = 'is_movie_package_subscriber', data = df)\n",
        "ax.set(xlabel='Movie subscriber or not')"
      ]
    },
    {
      "cell_type": "markdown",
      "metadata": {
        "id": "w2NGRmYEVkm-"
      },
      "source": [
        "# Modeling"
      ]
    },
    {
      "cell_type": "markdown",
      "metadata": {
        "id": "pKeL92WDxq0m"
      },
      "source": [
        "## Logistic regression"
      ]
    },
    {
      "cell_type": "code",
      "execution_count": 33,
      "metadata": {
        "id": "dPdxftcbVmuf"
      },
      "outputs": [],
      "source": [
        "from sklearn.linear_model import LogisticRegression\n",
        "from sklearn.model_selection import train_test_split, GridSearchCV\n",
        "from sklearn.preprocessing import StandardScaler\n",
        "from sklearn.pipeline import Pipeline\n",
        "from sklearn.metrics import (\n",
        "    classification_report,\n",
        "    confusion_matrix,\n",
        "    roc_auc_score,\n",
        "    accuracy_score,\n",
        "    precision_score,\n",
        "    recall_score,\n",
        "    f1_score,\n",
        "    roc_curve,\n",
        ")\n",
        "\n",
        "# Select features and target variable\n",
        "# X = df[\n",
        "#     [\n",
        "#         'is_tv_subscriber',\n",
        "#         'subscription_age',\n",
        "#         'service_failure_count',\n",
        "#         'download_avg',\n",
        "#         'is_contract',\n",
        "#         'bill_avg',\n",
        "#         'reamining_contract',\n",
        "#     ]\n",
        "# ]\n",
        "X = df.drop(columns=['churn'])\n",
        "y = df['churn']\n",
        "\n",
        "# Split the data into training and validation sets with stratification\n",
        "X_train, X_val, y_train, y_val = train_test_split(\n",
        "    X, y, train_size=0.8, random_state=42, stratify=y\n",
        ")\n",
        "\n",
        "# Define the preprocessing and modeling pipeline\n",
        "pipeline = Pipeline(\n",
        "    [\n",
        "        ('scaler', StandardScaler()),  # Feature scaling\n",
        "        (\n",
        "            'logistic',\n",
        "            LogisticRegression(\n",
        "                solver='liblinear',\n",
        "                class_weight='balanced',\n",
        "                random_state=2,\n",
        "                max_iter=1000,\n",
        "            ),\n",
        "        ),\n",
        "    ]\n",
        ")"
      ]
    },
    {
      "cell_type": "code",
      "execution_count": 34,
      "metadata": {
        "colab": {
          "base_uri": "https://localhost:8080/",
          "height": 194
        },
        "id": "RBkBnrfWXtSV",
        "outputId": "7ede0f3a-d976-4f45-d3c0-b38c7a797323"
      },
      "outputs": [
        {
          "name": "stdout",
          "output_type": "stream",
          "text": [
            "Fitting 5 folds for each of 40 candidates, totalling 200 fits\n"
          ]
        },
        {
          "data": {
            "text/html": [
              "<style>#sk-container-id-4 {\n",
              "  /* Definition of color scheme common for light and dark mode */\n",
              "  --sklearn-color-text: black;\n",
              "  --sklearn-color-line: gray;\n",
              "  /* Definition of color scheme for unfitted estimators */\n",
              "  --sklearn-color-unfitted-level-0: #fff5e6;\n",
              "  --sklearn-color-unfitted-level-1: #f6e4d2;\n",
              "  --sklearn-color-unfitted-level-2: #ffe0b3;\n",
              "  --sklearn-color-unfitted-level-3: chocolate;\n",
              "  /* Definition of color scheme for fitted estimators */\n",
              "  --sklearn-color-fitted-level-0: #f0f8ff;\n",
              "  --sklearn-color-fitted-level-1: #d4ebff;\n",
              "  --sklearn-color-fitted-level-2: #b3dbfd;\n",
              "  --sklearn-color-fitted-level-3: cornflowerblue;\n",
              "\n",
              "  /* Specific color for light theme */\n",
              "  --sklearn-color-text-on-default-background: var(--sg-text-color, var(--theme-code-foreground, var(--jp-content-font-color1, black)));\n",
              "  --sklearn-color-background: var(--sg-background-color, var(--theme-background, var(--jp-layout-color0, white)));\n",
              "  --sklearn-color-border-box: var(--sg-text-color, var(--theme-code-foreground, var(--jp-content-font-color1, black)));\n",
              "  --sklearn-color-icon: #696969;\n",
              "\n",
              "  @media (prefers-color-scheme: dark) {\n",
              "    /* Redefinition of color scheme for dark theme */\n",
              "    --sklearn-color-text-on-default-background: var(--sg-text-color, var(--theme-code-foreground, var(--jp-content-font-color1, white)));\n",
              "    --sklearn-color-background: var(--sg-background-color, var(--theme-background, var(--jp-layout-color0, #111)));\n",
              "    --sklearn-color-border-box: var(--sg-text-color, var(--theme-code-foreground, var(--jp-content-font-color1, white)));\n",
              "    --sklearn-color-icon: #878787;\n",
              "  }\n",
              "}\n",
              "\n",
              "#sk-container-id-4 {\n",
              "  color: var(--sklearn-color-text);\n",
              "}\n",
              "\n",
              "#sk-container-id-4 pre {\n",
              "  padding: 0;\n",
              "}\n",
              "\n",
              "#sk-container-id-4 input.sk-hidden--visually {\n",
              "  border: 0;\n",
              "  clip: rect(1px 1px 1px 1px);\n",
              "  clip: rect(1px, 1px, 1px, 1px);\n",
              "  height: 1px;\n",
              "  margin: -1px;\n",
              "  overflow: hidden;\n",
              "  padding: 0;\n",
              "  position: absolute;\n",
              "  width: 1px;\n",
              "}\n",
              "\n",
              "#sk-container-id-4 div.sk-dashed-wrapped {\n",
              "  border: 1px dashed var(--sklearn-color-line);\n",
              "  margin: 0 0.4em 0.5em 0.4em;\n",
              "  box-sizing: border-box;\n",
              "  padding-bottom: 0.4em;\n",
              "  background-color: var(--sklearn-color-background);\n",
              "}\n",
              "\n",
              "#sk-container-id-4 div.sk-container {\n",
              "  /* jupyter's `normalize.less` sets `[hidden] { display: none; }`\n",
              "     but bootstrap.min.css set `[hidden] { display: none !important; }`\n",
              "     so we also need the `!important` here to be able to override the\n",
              "     default hidden behavior on the sphinx rendered scikit-learn.org.\n",
              "     See: https://github.com/scikit-learn/scikit-learn/issues/21755 */\n",
              "  display: inline-block !important;\n",
              "  position: relative;\n",
              "}\n",
              "\n",
              "#sk-container-id-4 div.sk-text-repr-fallback {\n",
              "  display: none;\n",
              "}\n",
              "\n",
              "div.sk-parallel-item,\n",
              "div.sk-serial,\n",
              "div.sk-item {\n",
              "  /* draw centered vertical line to link estimators */\n",
              "  background-image: linear-gradient(var(--sklearn-color-text-on-default-background), var(--sklearn-color-text-on-default-background));\n",
              "  background-size: 2px 100%;\n",
              "  background-repeat: no-repeat;\n",
              "  background-position: center center;\n",
              "}\n",
              "\n",
              "/* Parallel-specific style estimator block */\n",
              "\n",
              "#sk-container-id-4 div.sk-parallel-item::after {\n",
              "  content: \"\";\n",
              "  width: 100%;\n",
              "  border-bottom: 2px solid var(--sklearn-color-text-on-default-background);\n",
              "  flex-grow: 1;\n",
              "}\n",
              "\n",
              "#sk-container-id-4 div.sk-parallel {\n",
              "  display: flex;\n",
              "  align-items: stretch;\n",
              "  justify-content: center;\n",
              "  background-color: var(--sklearn-color-background);\n",
              "  position: relative;\n",
              "}\n",
              "\n",
              "#sk-container-id-4 div.sk-parallel-item {\n",
              "  display: flex;\n",
              "  flex-direction: column;\n",
              "}\n",
              "\n",
              "#sk-container-id-4 div.sk-parallel-item:first-child::after {\n",
              "  align-self: flex-end;\n",
              "  width: 50%;\n",
              "}\n",
              "\n",
              "#sk-container-id-4 div.sk-parallel-item:last-child::after {\n",
              "  align-self: flex-start;\n",
              "  width: 50%;\n",
              "}\n",
              "\n",
              "#sk-container-id-4 div.sk-parallel-item:only-child::after {\n",
              "  width: 0;\n",
              "}\n",
              "\n",
              "/* Serial-specific style estimator block */\n",
              "\n",
              "#sk-container-id-4 div.sk-serial {\n",
              "  display: flex;\n",
              "  flex-direction: column;\n",
              "  align-items: center;\n",
              "  background-color: var(--sklearn-color-background);\n",
              "  padding-right: 1em;\n",
              "  padding-left: 1em;\n",
              "}\n",
              "\n",
              "\n",
              "/* Toggleable style: style used for estimator/Pipeline/ColumnTransformer box that is\n",
              "clickable and can be expanded/collapsed.\n",
              "- Pipeline and ColumnTransformer use this feature and define the default style\n",
              "- Estimators will overwrite some part of the style using the `sk-estimator` class\n",
              "*/\n",
              "\n",
              "/* Pipeline and ColumnTransformer style (default) */\n",
              "\n",
              "#sk-container-id-4 div.sk-toggleable {\n",
              "  /* Default theme specific background. It is overwritten whether we have a\n",
              "  specific estimator or a Pipeline/ColumnTransformer */\n",
              "  background-color: var(--sklearn-color-background);\n",
              "}\n",
              "\n",
              "/* Toggleable label */\n",
              "#sk-container-id-4 label.sk-toggleable__label {\n",
              "  cursor: pointer;\n",
              "  display: block;\n",
              "  width: 100%;\n",
              "  margin-bottom: 0;\n",
              "  padding: 0.5em;\n",
              "  box-sizing: border-box;\n",
              "  text-align: center;\n",
              "}\n",
              "\n",
              "#sk-container-id-4 label.sk-toggleable__label-arrow:before {\n",
              "  /* Arrow on the left of the label */\n",
              "  content: \"▸\";\n",
              "  float: left;\n",
              "  margin-right: 0.25em;\n",
              "  color: var(--sklearn-color-icon);\n",
              "}\n",
              "\n",
              "#sk-container-id-4 label.sk-toggleable__label-arrow:hover:before {\n",
              "  color: var(--sklearn-color-text);\n",
              "}\n",
              "\n",
              "/* Toggleable content - dropdown */\n",
              "\n",
              "#sk-container-id-4 div.sk-toggleable__content {\n",
              "  max-height: 0;\n",
              "  max-width: 0;\n",
              "  overflow: hidden;\n",
              "  text-align: left;\n",
              "  /* unfitted */\n",
              "  background-color: var(--sklearn-color-unfitted-level-0);\n",
              "}\n",
              "\n",
              "#sk-container-id-4 div.sk-toggleable__content.fitted {\n",
              "  /* fitted */\n",
              "  background-color: var(--sklearn-color-fitted-level-0);\n",
              "}\n",
              "\n",
              "#sk-container-id-4 div.sk-toggleable__content pre {\n",
              "  margin: 0.2em;\n",
              "  border-radius: 0.25em;\n",
              "  color: var(--sklearn-color-text);\n",
              "  /* unfitted */\n",
              "  background-color: var(--sklearn-color-unfitted-level-0);\n",
              "}\n",
              "\n",
              "#sk-container-id-4 div.sk-toggleable__content.fitted pre {\n",
              "  /* unfitted */\n",
              "  background-color: var(--sklearn-color-fitted-level-0);\n",
              "}\n",
              "\n",
              "#sk-container-id-4 input.sk-toggleable__control:checked~div.sk-toggleable__content {\n",
              "  /* Expand drop-down */\n",
              "  max-height: 200px;\n",
              "  max-width: 100%;\n",
              "  overflow: auto;\n",
              "}\n",
              "\n",
              "#sk-container-id-4 input.sk-toggleable__control:checked~label.sk-toggleable__label-arrow:before {\n",
              "  content: \"▾\";\n",
              "}\n",
              "\n",
              "/* Pipeline/ColumnTransformer-specific style */\n",
              "\n",
              "#sk-container-id-4 div.sk-label input.sk-toggleable__control:checked~label.sk-toggleable__label {\n",
              "  color: var(--sklearn-color-text);\n",
              "  background-color: var(--sklearn-color-unfitted-level-2);\n",
              "}\n",
              "\n",
              "#sk-container-id-4 div.sk-label.fitted input.sk-toggleable__control:checked~label.sk-toggleable__label {\n",
              "  background-color: var(--sklearn-color-fitted-level-2);\n",
              "}\n",
              "\n",
              "/* Estimator-specific style */\n",
              "\n",
              "/* Colorize estimator box */\n",
              "#sk-container-id-4 div.sk-estimator input.sk-toggleable__control:checked~label.sk-toggleable__label {\n",
              "  /* unfitted */\n",
              "  background-color: var(--sklearn-color-unfitted-level-2);\n",
              "}\n",
              "\n",
              "#sk-container-id-4 div.sk-estimator.fitted input.sk-toggleable__control:checked~label.sk-toggleable__label {\n",
              "  /* fitted */\n",
              "  background-color: var(--sklearn-color-fitted-level-2);\n",
              "}\n",
              "\n",
              "#sk-container-id-4 div.sk-label label.sk-toggleable__label,\n",
              "#sk-container-id-4 div.sk-label label {\n",
              "  /* The background is the default theme color */\n",
              "  color: var(--sklearn-color-text-on-default-background);\n",
              "}\n",
              "\n",
              "/* On hover, darken the color of the background */\n",
              "#sk-container-id-4 div.sk-label:hover label.sk-toggleable__label {\n",
              "  color: var(--sklearn-color-text);\n",
              "  background-color: var(--sklearn-color-unfitted-level-2);\n",
              "}\n",
              "\n",
              "/* Label box, darken color on hover, fitted */\n",
              "#sk-container-id-4 div.sk-label.fitted:hover label.sk-toggleable__label.fitted {\n",
              "  color: var(--sklearn-color-text);\n",
              "  background-color: var(--sklearn-color-fitted-level-2);\n",
              "}\n",
              "\n",
              "/* Estimator label */\n",
              "\n",
              "#sk-container-id-4 div.sk-label label {\n",
              "  font-family: monospace;\n",
              "  font-weight: bold;\n",
              "  display: inline-block;\n",
              "  line-height: 1.2em;\n",
              "}\n",
              "\n",
              "#sk-container-id-4 div.sk-label-container {\n",
              "  text-align: center;\n",
              "}\n",
              "\n",
              "/* Estimator-specific */\n",
              "#sk-container-id-4 div.sk-estimator {\n",
              "  font-family: monospace;\n",
              "  border: 1px dotted var(--sklearn-color-border-box);\n",
              "  border-radius: 0.25em;\n",
              "  box-sizing: border-box;\n",
              "  margin-bottom: 0.5em;\n",
              "  /* unfitted */\n",
              "  background-color: var(--sklearn-color-unfitted-level-0);\n",
              "}\n",
              "\n",
              "#sk-container-id-4 div.sk-estimator.fitted {\n",
              "  /* fitted */\n",
              "  background-color: var(--sklearn-color-fitted-level-0);\n",
              "}\n",
              "\n",
              "/* on hover */\n",
              "#sk-container-id-4 div.sk-estimator:hover {\n",
              "  /* unfitted */\n",
              "  background-color: var(--sklearn-color-unfitted-level-2);\n",
              "}\n",
              "\n",
              "#sk-container-id-4 div.sk-estimator.fitted:hover {\n",
              "  /* fitted */\n",
              "  background-color: var(--sklearn-color-fitted-level-2);\n",
              "}\n",
              "\n",
              "/* Specification for estimator info (e.g. \"i\" and \"?\") */\n",
              "\n",
              "/* Common style for \"i\" and \"?\" */\n",
              "\n",
              ".sk-estimator-doc-link,\n",
              "a:link.sk-estimator-doc-link,\n",
              "a:visited.sk-estimator-doc-link {\n",
              "  float: right;\n",
              "  font-size: smaller;\n",
              "  line-height: 1em;\n",
              "  font-family: monospace;\n",
              "  background-color: var(--sklearn-color-background);\n",
              "  border-radius: 1em;\n",
              "  height: 1em;\n",
              "  width: 1em;\n",
              "  text-decoration: none !important;\n",
              "  margin-left: 1ex;\n",
              "  /* unfitted */\n",
              "  border: var(--sklearn-color-unfitted-level-1) 1pt solid;\n",
              "  color: var(--sklearn-color-unfitted-level-1);\n",
              "}\n",
              "\n",
              ".sk-estimator-doc-link.fitted,\n",
              "a:link.sk-estimator-doc-link.fitted,\n",
              "a:visited.sk-estimator-doc-link.fitted {\n",
              "  /* fitted */\n",
              "  border: var(--sklearn-color-fitted-level-1) 1pt solid;\n",
              "  color: var(--sklearn-color-fitted-level-1);\n",
              "}\n",
              "\n",
              "/* On hover */\n",
              "div.sk-estimator:hover .sk-estimator-doc-link:hover,\n",
              ".sk-estimator-doc-link:hover,\n",
              "div.sk-label-container:hover .sk-estimator-doc-link:hover,\n",
              ".sk-estimator-doc-link:hover {\n",
              "  /* unfitted */\n",
              "  background-color: var(--sklearn-color-unfitted-level-3);\n",
              "  color: var(--sklearn-color-background);\n",
              "  text-decoration: none;\n",
              "}\n",
              "\n",
              "div.sk-estimator.fitted:hover .sk-estimator-doc-link.fitted:hover,\n",
              ".sk-estimator-doc-link.fitted:hover,\n",
              "div.sk-label-container:hover .sk-estimator-doc-link.fitted:hover,\n",
              ".sk-estimator-doc-link.fitted:hover {\n",
              "  /* fitted */\n",
              "  background-color: var(--sklearn-color-fitted-level-3);\n",
              "  color: var(--sklearn-color-background);\n",
              "  text-decoration: none;\n",
              "}\n",
              "\n",
              "/* Span, style for the box shown on hovering the info icon */\n",
              ".sk-estimator-doc-link span {\n",
              "  display: none;\n",
              "  z-index: 9999;\n",
              "  position: relative;\n",
              "  font-weight: normal;\n",
              "  right: .2ex;\n",
              "  padding: .5ex;\n",
              "  margin: .5ex;\n",
              "  width: min-content;\n",
              "  min-width: 20ex;\n",
              "  max-width: 50ex;\n",
              "  color: var(--sklearn-color-text);\n",
              "  box-shadow: 2pt 2pt 4pt #999;\n",
              "  /* unfitted */\n",
              "  background: var(--sklearn-color-unfitted-level-0);\n",
              "  border: .5pt solid var(--sklearn-color-unfitted-level-3);\n",
              "}\n",
              "\n",
              ".sk-estimator-doc-link.fitted span {\n",
              "  /* fitted */\n",
              "  background: var(--sklearn-color-fitted-level-0);\n",
              "  border: var(--sklearn-color-fitted-level-3);\n",
              "}\n",
              "\n",
              ".sk-estimator-doc-link:hover span {\n",
              "  display: block;\n",
              "}\n",
              "\n",
              "/* \"?\"-specific style due to the `<a>` HTML tag */\n",
              "\n",
              "#sk-container-id-4 a.estimator_doc_link {\n",
              "  float: right;\n",
              "  font-size: 1rem;\n",
              "  line-height: 1em;\n",
              "  font-family: monospace;\n",
              "  background-color: var(--sklearn-color-background);\n",
              "  border-radius: 1rem;\n",
              "  height: 1rem;\n",
              "  width: 1rem;\n",
              "  text-decoration: none;\n",
              "  /* unfitted */\n",
              "  color: var(--sklearn-color-unfitted-level-1);\n",
              "  border: var(--sklearn-color-unfitted-level-1) 1pt solid;\n",
              "}\n",
              "\n",
              "#sk-container-id-4 a.estimator_doc_link.fitted {\n",
              "  /* fitted */\n",
              "  border: var(--sklearn-color-fitted-level-1) 1pt solid;\n",
              "  color: var(--sklearn-color-fitted-level-1);\n",
              "}\n",
              "\n",
              "/* On hover */\n",
              "#sk-container-id-4 a.estimator_doc_link:hover {\n",
              "  /* unfitted */\n",
              "  background-color: var(--sklearn-color-unfitted-level-3);\n",
              "  color: var(--sklearn-color-background);\n",
              "  text-decoration: none;\n",
              "}\n",
              "\n",
              "#sk-container-id-4 a.estimator_doc_link.fitted:hover {\n",
              "  /* fitted */\n",
              "  background-color: var(--sklearn-color-fitted-level-3);\n",
              "}\n",
              "</style><div id=\"sk-container-id-4\" class=\"sk-top-container\"><div class=\"sk-text-repr-fallback\"><pre>GridSearchCV(cv=5,\n",
              "             estimator=Pipeline(steps=[(&#x27;scaler&#x27;, StandardScaler()),\n",
              "                                       (&#x27;logistic&#x27;,\n",
              "                                        LogisticRegression(class_weight=&#x27;balanced&#x27;,\n",
              "                                                           max_iter=1000,\n",
              "                                                           random_state=2,\n",
              "                                                           solver=&#x27;liblinear&#x27;))]),\n",
              "             n_jobs=-1,\n",
              "             param_grid={&#x27;logistic__C&#x27;: array([1.00000000e-04, 2.63665090e-04, 6.95192796e-04, 1.83298071e-03,\n",
              "       4.83293024e-03, 1.27427499e-02, 3.35981829e-02, 8.85866790e-02,\n",
              "       2.33572147e-01, 6.15848211e-01, 1.62377674e+00, 4.28133240e+00,\n",
              "       1.12883789e+01, 2.97635144e+01, 7.84759970e+01, 2.06913808e+02,\n",
              "       5.45559478e+02, 1.43844989e+03, 3.79269019e+03, 1.00000000e+04]),\n",
              "                         &#x27;logistic__penalty&#x27;: [&#x27;l1&#x27;, &#x27;l2&#x27;]},\n",
              "             scoring=&#x27;roc_auc&#x27;, verbose=1)</pre><b>In a Jupyter environment, please rerun this cell to show the HTML representation or trust the notebook. <br />On GitHub, the HTML representation is unable to render, please try loading this page with nbviewer.org.</b></div><div class=\"sk-container\" hidden><div class=\"sk-item sk-dashed-wrapped\"><div class=\"sk-label-container\"><div class=\"sk-label fitted sk-toggleable\"><input class=\"sk-toggleable__control sk-hidden--visually\" id=\"sk-estimator-id-13\" type=\"checkbox\" ><label for=\"sk-estimator-id-13\" class=\"sk-toggleable__label fitted sk-toggleable__label-arrow fitted\">&nbsp;&nbsp;GridSearchCV<a class=\"sk-estimator-doc-link fitted\" rel=\"noreferrer\" target=\"_blank\" href=\"https://scikit-learn.org/1.5/modules/generated/sklearn.model_selection.GridSearchCV.html\">?<span>Documentation for GridSearchCV</span></a><span class=\"sk-estimator-doc-link fitted\">i<span>Fitted</span></span></label><div class=\"sk-toggleable__content fitted\"><pre>GridSearchCV(cv=5,\n",
              "             estimator=Pipeline(steps=[(&#x27;scaler&#x27;, StandardScaler()),\n",
              "                                       (&#x27;logistic&#x27;,\n",
              "                                        LogisticRegression(class_weight=&#x27;balanced&#x27;,\n",
              "                                                           max_iter=1000,\n",
              "                                                           random_state=2,\n",
              "                                                           solver=&#x27;liblinear&#x27;))]),\n",
              "             n_jobs=-1,\n",
              "             param_grid={&#x27;logistic__C&#x27;: array([1.00000000e-04, 2.63665090e-04, 6.95192796e-04, 1.83298071e-03,\n",
              "       4.83293024e-03, 1.27427499e-02, 3.35981829e-02, 8.85866790e-02,\n",
              "       2.33572147e-01, 6.15848211e-01, 1.62377674e+00, 4.28133240e+00,\n",
              "       1.12883789e+01, 2.97635144e+01, 7.84759970e+01, 2.06913808e+02,\n",
              "       5.45559478e+02, 1.43844989e+03, 3.79269019e+03, 1.00000000e+04]),\n",
              "                         &#x27;logistic__penalty&#x27;: [&#x27;l1&#x27;, &#x27;l2&#x27;]},\n",
              "             scoring=&#x27;roc_auc&#x27;, verbose=1)</pre></div> </div></div><div class=\"sk-parallel\"><div class=\"sk-parallel-item\"><div class=\"sk-item\"><div class=\"sk-label-container\"><div class=\"sk-label fitted sk-toggleable\"><input class=\"sk-toggleable__control sk-hidden--visually\" id=\"sk-estimator-id-14\" type=\"checkbox\" ><label for=\"sk-estimator-id-14\" class=\"sk-toggleable__label fitted sk-toggleable__label-arrow fitted\">best_estimator_: Pipeline</label><div class=\"sk-toggleable__content fitted\"><pre>Pipeline(steps=[(&#x27;scaler&#x27;, StandardScaler()),\n",
              "                (&#x27;logistic&#x27;,\n",
              "                 LogisticRegression(C=0.00026366508987303583,\n",
              "                                    class_weight=&#x27;balanced&#x27;, max_iter=1000,\n",
              "                                    penalty=&#x27;l1&#x27;, random_state=2,\n",
              "                                    solver=&#x27;liblinear&#x27;))])</pre></div> </div></div><div class=\"sk-serial\"><div class=\"sk-item\"><div class=\"sk-serial\"><div class=\"sk-item\"><div class=\"sk-estimator fitted sk-toggleable\"><input class=\"sk-toggleable__control sk-hidden--visually\" id=\"sk-estimator-id-15\" type=\"checkbox\" ><label for=\"sk-estimator-id-15\" class=\"sk-toggleable__label fitted sk-toggleable__label-arrow fitted\">&nbsp;StandardScaler<a class=\"sk-estimator-doc-link fitted\" rel=\"noreferrer\" target=\"_blank\" href=\"https://scikit-learn.org/1.5/modules/generated/sklearn.preprocessing.StandardScaler.html\">?<span>Documentation for StandardScaler</span></a></label><div class=\"sk-toggleable__content fitted\"><pre>StandardScaler()</pre></div> </div></div><div class=\"sk-item\"><div class=\"sk-estimator fitted sk-toggleable\"><input class=\"sk-toggleable__control sk-hidden--visually\" id=\"sk-estimator-id-16\" type=\"checkbox\" ><label for=\"sk-estimator-id-16\" class=\"sk-toggleable__label fitted sk-toggleable__label-arrow fitted\">&nbsp;LogisticRegression<a class=\"sk-estimator-doc-link fitted\" rel=\"noreferrer\" target=\"_blank\" href=\"https://scikit-learn.org/1.5/modules/generated/sklearn.linear_model.LogisticRegression.html\">?<span>Documentation for LogisticRegression</span></a></label><div class=\"sk-toggleable__content fitted\"><pre>LogisticRegression(C=0.00026366508987303583, class_weight=&#x27;balanced&#x27;,\n",
              "                   max_iter=1000, penalty=&#x27;l1&#x27;, random_state=2,\n",
              "                   solver=&#x27;liblinear&#x27;)</pre></div> </div></div></div></div></div></div></div></div></div></div></div>"
            ],
            "text/plain": [
              "GridSearchCV(cv=5,\n",
              "             estimator=Pipeline(steps=[('scaler', StandardScaler()),\n",
              "                                       ('logistic',\n",
              "                                        LogisticRegression(class_weight='balanced',\n",
              "                                                           max_iter=1000,\n",
              "                                                           random_state=2,\n",
              "                                                           solver='liblinear'))]),\n",
              "             n_jobs=-1,\n",
              "             param_grid={'logistic__C': array([1.00000000e-04, 2.63665090e-04, 6.95192796e-04, 1.83298071e-03,\n",
              "       4.83293024e-03, 1.27427499e-02, 3.35981829e-02, 8.85866790e-02,\n",
              "       2.33572147e-01, 6.15848211e-01, 1.62377674e+00, 4.28133240e+00,\n",
              "       1.12883789e+01, 2.97635144e+01, 7.84759970e+01, 2.06913808e+02,\n",
              "       5.45559478e+02, 1.43844989e+03, 3.79269019e+03, 1.00000000e+04]),\n",
              "                         'logistic__penalty': ['l1', 'l2']},\n",
              "             scoring='roc_auc', verbose=1)"
            ]
          },
          "execution_count": 34,
          "metadata": {},
          "output_type": "execute_result"
        }
      ],
      "source": [
        "# Define hyperparameter grid for GridSearchCV\n",
        "param_grid = {\n",
        "    'logistic__C': np.logspace(-4, 4, 20),  # Regularization strength\n",
        "    'logistic__penalty': ['l1', 'l2'],      # Regularization type\n",
        "}\n",
        "\n",
        "# Set up GridSearchCV with cross-validation\n",
        "grid_search = GridSearchCV(\n",
        "    pipeline, param_grid, cv=5, scoring='roc_auc', n_jobs=-1, verbose=1\n",
        ")\n",
        "\n",
        "# Fit the model using grid search to find the best parameters\n",
        "grid_search.fit(X_train, y_train)"
      ]
    },
    {
      "cell_type": "code",
      "execution_count": 35,
      "metadata": {
        "colab": {
          "base_uri": "https://localhost:8080/"
        },
        "id": "hwUpXSWBT0bx",
        "outputId": "444b14cd-5f65-4d82-b474-8e9306144860"
      },
      "outputs": [
        {
          "name": "stdout",
          "output_type": "stream",
          "text": [
            "Best parameters from GridSearchCV:\n",
            "{'logistic__C': 0.00026366508987303583, 'logistic__penalty': 'l1'}\n"
          ]
        }
      ],
      "source": [
        "# Print the best parameters found\n",
        "print(\"Best parameters from GridSearchCV:\")\n",
        "print(grid_search.best_params_)"
      ]
    },
    {
      "cell_type": "code",
      "execution_count": 36,
      "metadata": {
        "id": "UKUHAq8fX3yu"
      },
      "outputs": [],
      "source": [
        "# Get the best model from grid search\n",
        "best_model = grid_search.best_estimator_\n",
        "\n",
        "# Evaluate the model on the validation set\n",
        "y_pred = best_model.predict(X_val)\n",
        "y_proba = best_model.predict_proba(X_val)[:, 1]"
      ]
    },
    {
      "cell_type": "code",
      "execution_count": 37,
      "metadata": {
        "colab": {
          "base_uri": "https://localhost:8080/"
        },
        "id": "JGvoMUFtX4GO",
        "outputId": "7695ade6-3254-4da0-d1ff-96ab64972a21"
      },
      "outputs": [
        {
          "name": "stdout",
          "output_type": "stream",
          "text": [
            "\n",
            "Classification Report:\n",
            "              precision    recall  f1-score   support\n",
            "\n",
            "           0       0.89      0.77      0.82      6367\n",
            "           1       0.83      0.93      0.88      8010\n",
            "\n",
            "    accuracy                           0.85     14377\n",
            "   macro avg       0.86      0.85      0.85     14377\n",
            "weighted avg       0.86      0.85      0.85     14377\n",
            "\n",
            "Confusion Matrix:\n",
            "[[4873 1494]\n",
            " [ 599 7411]]\n",
            "ROC AUC Score:\n",
            "0.9355\n"
          ]
        }
      ],
      "source": [
        "# Print evaluation metrics\n",
        "print(\"\\nClassification Report:\")\n",
        "print(classification_report(y_val, y_pred))\n",
        "\n",
        "print(\"Confusion Matrix:\")\n",
        "conf_matrix = confusion_matrix(y_val, y_pred)\n",
        "print(conf_matrix)\n",
        "\n",
        "print(\"ROC AUC Score:\")\n",
        "roc_auc = roc_auc_score(y_val, y_proba)\n",
        "print(f\"{roc_auc:.4f}\")"
      ]
    },
    {
      "cell_type": "code",
      "execution_count": 38,
      "metadata": {
        "colab": {
          "base_uri": "https://localhost:8080/",
          "height": 596
        },
        "id": "D8enUDU9YRjY",
        "outputId": "dbab4ea9-e538-495b-e553-2e1b219731c2"
      },
      "outputs": [
        {
          "data": {
            "image/png": "[encoded data removed]",
            "text/plain": [
              "<Figure size 800x600 with 1 Axes>"
            ]
          },
          "metadata": {},
          "output_type": "display_data"
        }
      ],
      "source": [
        "# Plot ROC Curve\n",
        "fpr, tpr, thresholds = roc_curve(y_val, y_proba)\n",
        "plt.figure(figsize=(8, 6))\n",
        "plt.plot(fpr, tpr, label=f\"ROC Curve (AUC = {roc_auc:.4f})\")\n",
        "plt.plot([0, 1], [0, 1], 'k--')  # Diagonal line for random classifier\n",
        "plt.xlabel('False Positive Rate')\n",
        "plt.ylabel('True Positive Rate')\n",
        "plt.title('Receiver Operating Characteristic (ROC) Curve')\n",
        "plt.legend(loc='lower right')\n",
        "plt.grid(True)\n",
        "plt.show()"
      ]
    },
    {
      "cell_type": "code",
      "execution_count": 39,
      "metadata": {
        "colab": {
          "base_uri": "https://localhost:8080/",
          "height": 519
        },
        "id": "x4CixBB-Yb5U",
        "outputId": "75e83de5-4325-490c-f117-d27729e6ce05"
      },
      "outputs": [
        {
          "data": {
            "image/png": "[encoded data removed]",
            "text/plain": [
              "<Figure size 600x500 with 1 Axes>"
            ]
          },
          "metadata": {},
          "output_type": "display_data"
        }
      ],
      "source": [
        "# Plot Confusion Matrix as a heatmap\n",
        "plt.figure(figsize=(6, 5))\n",
        "sns.heatmap(conf_matrix, annot=True, fmt='d', cmap='Blues', cbar=False)\n",
        "plt.title('Confusion Matrix')\n",
        "plt.xlabel('Predicted Label')\n",
        "plt.ylabel('True Label')\n",
        "plt.show()"
      ]
    },
    {
      "cell_type": "code",
      "execution_count": 40,
      "metadata": {
        "colab": {
          "base_uri": "https://localhost:8080/"
        },
        "id": "8gb2e3IGYsN4",
        "outputId": "fada57c6-90cb-4bdf-e99a-6286dea53f96"
      },
      "outputs": [
        {
          "name": "stdout",
          "output_type": "stream",
          "text": [
            "\n",
            "Feature Coefficients:\n",
            "                       Feature  Coefficient\n",
            "4           reamining_contract    -1.320237\n",
            "5                 download_avg    -0.187756\n",
            "0             is_tv_subscriber    -0.142822\n",
            "2             subscription_age    -0.004916\n",
            "1  is_movie_package_subscriber     0.000000\n",
            "3                     bill_avg     0.000000\n",
            "6                   upload_avg     0.000000\n"
          ]
        }
      ],
      "source": [
        "# Get feature names and coefficients\n",
        "feature_names = X.columns\n",
        "coefficients = best_model.named_steps['logistic'].coef_[0]\n",
        "\n",
        "# Create a DataFrame of features and their coefficients\n",
        "coef_df = pd.DataFrame({'Feature': feature_names, 'Coefficient': coefficients})\n",
        "coef_df['Absolute Coefficient'] = coef_df['Coefficient'].abs()\n",
        "coef_df.sort_values(by='Absolute Coefficient', ascending=False, inplace=True)\n",
        "\n",
        "print(\"\\nFeature Coefficients:\")\n",
        "print(coef_df[['Feature', 'Coefficient']])"
      ]
    },
    {
      "cell_type": "code",
      "execution_count": 43,
      "metadata": {
        "colab": {
          "base_uri": "https://localhost:8080/"
        },
        "id": "cFl07XgDY7wV",
        "outputId": "978a3972-0616-4d63-c1da-a0708fa113e6"
      },
      "outputs": [
        {
          "data": {
            "text/plain": [
              "['logistic_regression_model.pkl']"
            ]
          },
          "execution_count": 43,
          "metadata": {},
          "output_type": "execute_result"
        }
      ],
      "source": [
        "import joblib\n",
        "\n",
        "joblib.dump(best_model, 'logistic_regression_model.pkl')"
      ]
    },
    {
      "cell_type": "markdown",
      "metadata": {
        "id": "SmU8S7Amx4dP"
      },
      "source": [
        "## Random forest"
      ]
    },
    {
      "cell_type": "code",
      "execution_count": 26,
      "metadata": {
        "colab": {
          "base_uri": "https://localhost:8080/"
        },
        "id": "m58_FIWNx6mG",
        "outputId": "a732e82d-6752-4df4-fad6-b304a19ee02d"
      },
      "outputs": [
        {
          "name": "stdout",
          "output_type": "stream",
          "text": [
            "Best Parameters: {'max_depth': None, 'min_samples_leaf': 1, 'min_samples_split': 5, 'n_estimators': 50}\n"
          ]
        }
      ],
      "source": [
        "# from sklearn.ensemble import RandomForestClassifier\n",
        "\n",
        "# param_grid_rf = {\n",
        "#     'n_estimators': [50, 100, 200],\n",
        "#     'max_depth': [None, 10],\n",
        "#     'min_samples_split': [2, 5],\n",
        "#     'min_samples_leaf': [1, 2]\n",
        "# }\n",
        "\n",
        "# rf_model = RandomForestClassifier(random_state=42, n_jobs=-1)\n",
        "\n",
        "# # Create GridSearchCV object\n",
        "# grid_search_rf = GridSearchCV(estimator=rf_model, param_grid=param_grid_rf,\n",
        "#                            scoring='accuracy', cv=5, n_jobs=-1)\n",
        "\n",
        "# # Fit the model to the data\n",
        "# grid_search_rf.fit(X_train, y_train)\n",
        "\n",
        "# # Print the best parameters\n",
        "# print(\"Best Parameters:\", grid_search_rf.best_params_)"
      ]
    },
    {
      "cell_type": "code",
      "execution_count": 29,
      "metadata": {
        "colab": {
          "base_uri": "https://localhost:8080/"
        },
        "id": "GntHU9FYll3P",
        "outputId": "8a914538-f1b3-4e02-a737-34e57444ac62"
      },
      "outputs": [
        {
          "name": "stdout",
          "output_type": "stream",
          "text": [
            "              precision    recall  f1-score   support\n",
            "\n",
            "           0       0.92      0.95      0.93      9553\n",
            "           1       0.96      0.93      0.95     12015\n",
            "\n",
            "    accuracy                           0.94     21568\n",
            "   macro avg       0.94      0.94      0.94     21568\n",
            "weighted avg       0.94      0.94      0.94     21568\n",
            "\n"
          ]
        }
      ],
      "source": [
        "# y_pred1 = grid_search_rf.best_estimator_.predict(X_val)\n",
        "\n",
        "# print(classification_report(y_val, y_pred1))"
      ]
    },
    {
      "cell_type": "code",
      "execution_count": 28,
      "metadata": {
        "colab": {
          "base_uri": "https://localhost:8080/"
        },
        "id": "0TS4o-q2ficq",
        "outputId": "93c07f6e-88c0-4bbc-a3fd-192765e71fcf"
      },
      "outputs": [
        {
          "data": {
            "text/plain": [
              "['random_forest_model.pkl']"
            ]
          },
          "execution_count": 28,
          "metadata": {},
          "output_type": "execute_result"
        }
      ],
      "source": [
        "# import joblib\n",
        "\n",
        "# # Save the best model to a file\n",
        "# joblib.dump(grid_search_rf.best_estimator_, 'random_forest_model.pkl')"
      ]
    }
  ],
  "metadata": {
    "accelerator": "GPU",
    "colab": {
      "gpuType": "T4",
      "provenance": []
    },
    "kernelspec": {
      "display_name": ".venv",
      "language": "python",
      "name": "python3"
    },
    "language_info": {
      "codemirror_mode": {
        "name": "ipython",
        "version": 3
      },
      "file_extension": ".py",
      "mimetype": "text/x-python",
      "name": "python",
      "nbconvert_exporter": "python",
      "pygments_lexer": "ipython3",
      "version": "3.11.4"
    }
  },
  "nbformat": 4,
  "nbformat_minor": 0
}
